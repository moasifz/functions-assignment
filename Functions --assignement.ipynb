{
 "cells": [
  {
   "cell_type": "code",
   "execution_count": 3,
   "id": "cdd3056b-7670-4f29-80c2-2e8031b81d99",
   "metadata": {},
   "outputs": [],
   "source": [
    "#Q-1 What is the difference between a function and a method in python?\n",
    "#Ans- A function is a block of code which perform specific task and computation.\n",
    "#Example-\n",
    "def addition(a,b):\n",
    "    return a+b"
   ]
  },
  {
   "cell_type": "code",
   "execution_count": 4,
   "id": "31ec3e8e-785d-4a8a-affc-010b1629c1ec",
   "metadata": {},
   "outputs": [
    {
     "data": {
      "text/plain": [
       "5"
      ]
     },
     "execution_count": 4,
     "metadata": {},
     "output_type": "execute_result"
    }
   ],
   "source": [
    "addition(2,3)"
   ]
  },
  {
   "cell_type": "code",
   "execution_count": 5,
   "id": "e9adf123-23dd-4ac9-b4d5-d98f3c8299a8",
   "metadata": {},
   "outputs": [],
   "source": [
    "#B-Method is a function that associated with classes and object.\n",
    "#Example-\n",
    "class new:\n",
    "    def addition(self,a,b):\n",
    "        return a+b"
   ]
  },
  {
   "cell_type": "code",
   "execution_count": 6,
   "id": "f441320d-927e-4e8a-90e3-73562618a4dc",
   "metadata": {},
   "outputs": [
    {
     "data": {
      "text/plain": [
       "7"
      ]
     },
     "execution_count": 6,
     "metadata": {},
     "output_type": "execute_result"
    }
   ],
   "source": [
    "add=new()\n",
    "add.addition(3,4)"
   ]
  },
  {
   "cell_type": "code",
   "execution_count": 7,
   "id": "7b49be37-0182-4b8a-885d-302e097dee51",
   "metadata": {},
   "outputs": [],
   "source": [
    "#Q-2 Explain the concept of function arguements and paraameters in python.\n",
    "#Ans- Arguements are the actual values to pass a function when we call it.They are assigned to the corresponding parameters in the function defenition.\n",
    "#Example-\n",
    "def addition(a,b): # this is parameter\n",
    "    return a+b"
   ]
  },
  {
   "cell_type": "code",
   "execution_count": 8,
   "id": "e49096cb-ad9f-4d53-87d5-af4f39859670",
   "metadata": {},
   "outputs": [
    {
     "data": {
      "text/plain": [
       "9"
      ]
     },
     "execution_count": 8,
     "metadata": {},
     "output_type": "execute_result"
    }
   ],
   "source": [
    "\n",
    "addition(5,4) # this is arguement"
   ]
  },
  {
   "cell_type": "code",
   "execution_count": 9,
   "id": "29c5853a-5e3c-455a-9341-90025ae90f81",
   "metadata": {},
   "outputs": [],
   "source": [
    "#Q-3 What are the different ways to define and call a functon in python.\n",
    "#Ans- There are so many ways to define and call function in python.by using docsting,nested def,lambda,default parameter etc.\n",
    "# by using docsting.\n",
    "def addition(a,b):\n",
    "    \"\"\"\n",
    "    this function return addition of two numbers.\n",
    "    \"\"\"\n",
    "    return a+b"
   ]
  },
  {
   "cell_type": "code",
   "execution_count": 10,
   "id": "83a3ac2d-80d5-483a-91cf-f12d93dc2c8d",
   "metadata": {},
   "outputs": [
    {
     "data": {
      "text/plain": [
       "7"
      ]
     },
     "execution_count": 10,
     "metadata": {},
     "output_type": "execute_result"
    }
   ],
   "source": [
    "addition(3,4)"
   ]
  },
  {
   "cell_type": "code",
   "execution_count": 34,
   "id": "fcefe8ed-6008-4296-ac43-b6edeb8f0195",
   "metadata": {},
   "outputs": [
    {
     "name": "stdout",
     "output_type": "stream",
     "text": [
      "20\n"
     ]
    }
   ],
   "source": [
    "# by using nested def.\n",
    "def arg(x):\n",
    "    def num(y):\n",
    "        return y*y\n",
    "    return num (x)+x\n",
    "print(arg(4))"
   ]
  },
  {
   "cell_type": "code",
   "execution_count": 12,
   "id": "fcf87bce-3f93-4b83-83a0-1f6fde57be2d",
   "metadata": {},
   "outputs": [
    {
     "name": "stdout",
     "output_type": "stream",
     "text": [
      "this is print statement: (3+5j)\n"
     ]
    }
   ],
   "source": [
    "#Q-4 what is the purpose of 'return' statement in a python function?\n",
    "#ANS-Return is the output of function it allows a function to return a value to the caller.when we use return we can specify the value or object that we want to send back from the function.\n",
    "#Example-\n",
    "def func():\n",
    "    print(\"this is print statement:\",3+5j)\n",
    "          \n",
    "func()          "
   ]
  },
  {
   "cell_type": "code",
   "execution_count": 13,
   "id": "14bfd7c5-5125-4739-b152-da9350a4fafd",
   "metadata": {},
   "outputs": [
    {
     "data": {
      "text/plain": [
       "('this is return statement', 1, 2.2, True, (3+6j))"
      ]
     },
     "execution_count": 13,
     "metadata": {},
     "output_type": "execute_result"
    }
   ],
   "source": [
    "def func():\n",
    "    return \"this is return statement\", 1, 2.2, True, 3+6j\n",
    "\n",
    "func()\n",
    "\n"
   ]
  },
  {
   "cell_type": "code",
   "execution_count": 14,
   "id": "b4ff1981-e6d2-4fec-9e75-0c229d6a82d2",
   "metadata": {},
   "outputs": [
    {
     "name": "stdout",
     "output_type": "stream",
     "text": [
      "A\n",
      "s\n",
      "i\n",
      "f\n"
     ]
    }
   ],
   "source": [
    "#Q-5 What are iterators in python and how do they differ from iterables.\n",
    "#ANS- Iterator in python is an object that it is used to iterate over iterable objects.An iterable in any python object or sequential structure or data structure that is capable of returning.\n",
    "#Example-\n",
    "name='Asif'\n",
    "for i in name:\n",
    "    print(i)"
   ]
  },
  {
   "cell_type": "code",
   "execution_count": 15,
   "id": "07a952d4-900f-4f1f-ae9c-eb832b002d88",
   "metadata": {},
   "outputs": [],
   "source": [
    "\n",
    "a=iter(name)"
   ]
  },
  {
   "cell_type": "code",
   "execution_count": 16,
   "id": "0adaf58b-7020-4bdf-8109-dfd82b543008",
   "metadata": {},
   "outputs": [
    {
     "data": {
      "text/plain": [
       "'A'"
      ]
     },
     "execution_count": 16,
     "metadata": {},
     "output_type": "execute_result"
    }
   ],
   "source": [
    "next(a)"
   ]
  },
  {
   "cell_type": "code",
   "execution_count": 17,
   "id": "2c6b70e7-4da4-48d4-9830-c9908a62f51f",
   "metadata": {},
   "outputs": [],
   "source": [
    "#Q-6 Expalin the concept of generators in python and how they are defined.\n",
    "#ANS- Generator funtion in python are return iteartot which can iterate over one value at a time.\n",
    "#EXAMPLE-\n",
    "def sqr (a):\n",
    "    for i in range(a):\n",
    "        yield i**3"
   ]
  },
  {
   "cell_type": "code",
   "execution_count": 18,
   "id": "878bdb62-6878-4abc-973f-87e94511dab2",
   "metadata": {},
   "outputs": [],
   "source": [
    "a=sqr(5)"
   ]
  },
  {
   "cell_type": "code",
   "execution_count": 19,
   "id": "871b19b4-4322-4319-afe6-d5550d5b2c95",
   "metadata": {},
   "outputs": [
    {
     "data": {
      "text/plain": [
       "0"
      ]
     },
     "execution_count": 19,
     "metadata": {},
     "output_type": "execute_result"
    }
   ],
   "source": [
    "next(a)"
   ]
  },
  {
   "cell_type": "code",
   "execution_count": 20,
   "id": "1f7e40ce-fd61-433b-898d-5d5fb3972605",
   "metadata": {},
   "outputs": [
    {
     "name": "stdout",
     "output_type": "stream",
     "text": [
      "<generator object myfunc at 0x7b231c628200>\n"
     ]
    },
    {
     "data": {
      "text/plain": [
       "3"
      ]
     },
     "execution_count": 20,
     "metadata": {},
     "output_type": "execute_result"
    }
   ],
   "source": [
    "#Q-7 W hat are the advantages of using generators over regular functions.\n",
    "#ANS- The advantage of using generator function over regular function are 1-better memory management 2-support for infinite sequence.\n",
    "#Example-\n",
    "a=3\n",
    "def myfunc(a):\n",
    "    while a >=0:\n",
    "        yield a\n",
    "        a -= 1\n",
    "b = myfunc(a)\n",
    "print(b)\n",
    "next(b)\n",
    "        "
   ]
  },
  {
   "cell_type": "code",
   "execution_count": 21,
   "id": "f75498e2-3570-4a77-b181-af45c8edb716",
   "metadata": {},
   "outputs": [],
   "source": [
    "#Q-8 What is a lambda function in python and when is it typically used?\n",
    "#ANS- Lambda function is a anonymous function also known as lambda function,it's use for short term,specific tasks when we don't use full fleged function.\n",
    "#EXAMPLE-\n",
    "sql=lambda x : x**2"
   ]
  },
  {
   "cell_type": "code",
   "execution_count": 22,
   "id": "897d750a-1650-440e-b9f3-aaf56db40c35",
   "metadata": {},
   "outputs": [
    {
     "data": {
      "text/plain": [
       "25"
      ]
     },
     "execution_count": 22,
     "metadata": {},
     "output_type": "execute_result"
    }
   ],
   "source": [
    "sql(5)"
   ]
  },
  {
   "cell_type": "code",
   "execution_count": 23,
   "id": "a3e9777c-d4bd-4f70-ac2f-c857c2c1e09a",
   "metadata": {},
   "outputs": [
    {
     "name": "stdout",
     "output_type": "stream",
     "text": [
      "[1, 4, 9, 16, 25, 36, 49, 625]\n"
     ]
    }
   ],
   "source": [
    "#Que-9 Explain the purpose and usage of the map() function in python.\n",
    "#ANS- Map function is apply in function to item in a input like list etc and return iterator with result.\n",
    "#EXAMPLE-\n",
    "li=[1, 2, 3, 4, 5, 6, 7, 25]\n",
    "li2=map(lambda x : x** 2,li)\n",
    "print (list(li2))\n"
   ]
  },
  {
   "cell_type": "code",
   "execution_count": 24,
   "id": "19412a42-3b18-4549-a98f-d69566d01e48",
   "metadata": {},
   "outputs": [],
   "source": [
    "#Q-10 What is the difference between 'map()','reduce()',and 'filter()' functions in python.\n",
    "#ANS- Reduce- the reduce function is used for compressed and reduce to the single value.Reduce is not python in build function we have to import from(functools)."
   ]
  },
  {
   "cell_type": "code",
   "execution_count": 25,
   "id": "0efb68d1-08b1-4760-b30a-2e4732603ea5",
   "metadata": {},
   "outputs": [],
   "source": [
    "from functools import reduce as r"
   ]
  },
  {
   "cell_type": "code",
   "execution_count": 26,
   "id": "c8c6ed3e-7f42-4eaf-a7ff-e72ca2b32a96",
   "metadata": {},
   "outputs": [
    {
     "name": "stdout",
     "output_type": "stream",
     "text": [
      "24\n"
     ]
    }
   ],
   "source": [
    "num=[1, 2, 3, 4]\n",
    "re=r(lambda x,y:x*y,num)\n",
    "print(re)"
   ]
  },
  {
   "cell_type": "code",
   "execution_count": 27,
   "id": "d42c2e4c-748d-4f36-a0f3-cd0f7356a24a",
   "metadata": {},
   "outputs": [
    {
     "name": "stdout",
     "output_type": "stream",
     "text": [
      "[2, 4, 6]\n"
     ]
    }
   ],
   "source": [
    "# Example\n",
    "num=[1,2,3,4,5,6]\n",
    "modu=filter(lambda x : x%2== 0,num)\n",
    "print(list(modu))"
   ]
  },
  {
   "cell_type": "code",
   "execution_count": 28,
   "id": "c9b1fb81-4b31-42d8-9e14-bf1eb6702287",
   "metadata": {},
   "outputs": [
    {
     "name": "stdout",
     "output_type": "stream",
     "text": [
      "[1, 4, 9, 16, 25, 36, 49, 400]\n"
     ]
    }
   ],
   "source": [
    "#Example-\n",
    "li=[1,2,3,4,5,6,7,20]\n",
    "li2=map(lambda x : x**2,li)\n",
    "print (list(li2))"
   ]
  },
  {
   "cell_type": "code",
   "execution_count": null,
   "id": "8efb3e55-9c35-481a-978b-7c020a5ba351",
   "metadata": {},
   "outputs": [],
   "source": [
    "#Q-11 Using pen and paper write the internal mechanism for sum operation using reduce function on this given list:[47,11,42,13].\n",
    "#ANS-https://mail.google.com/mail/u/0?ui=2&ik=a873044013&attid=0.1&permmsgid=msg-a:r7427262319051662243&th=191c90f23e08cca9&view=att&disp=safe&realattid=191c90f06ccca04ac2\n",
    "num=[47,11,42,13]\n",
    "re= r(lambda x,y:x+y,num)\n",
    "print(re)"
   ]
  },
  {
   "cell_type": "code",
   "execution_count": 84,
   "id": "e62eb8c7-06d8-4c17-8159-c70088422bc8",
   "metadata": {},
   "outputs": [],
   "source": [
    "# PRACTICAL QUESTIONS"
   ]
  },
  {
   "cell_type": "code",
   "execution_count": 31,
   "id": "33156b19-4c27-46f0-8f08-7dbe3ffa528d",
   "metadata": {},
   "outputs": [
    {
     "name": "stdout",
     "output_type": "stream",
     "text": [
      "2\n"
     ]
    }
   ],
   "source": [
    "#Q=1 Write a python function that takes a list of numbers as input and returns the sum of all even numbers in the list.\n",
    "#ANS- \n",
    "def li(num):\n",
    "    total=0\n",
    "    for i in num:\n",
    "        if i % 2==0:\n",
    "            total+=i\n",
    "            return total\n",
    "        \n",
    "list1=[1,2,3,5]\n",
    "print(li(list1))"
   ]
  },
  {
   "cell_type": "code",
   "execution_count": 32,
   "id": "8de1105a-7941-487f-a00c-71ab22ed4d72",
   "metadata": {},
   "outputs": [
    {
     "name": "stdin",
     "output_type": "stream",
     "text": [
      "enter asif\n"
     ]
    },
    {
     "data": {
      "text/plain": [
       "'fisa'"
      ]
     },
     "execution_count": 32,
     "metadata": {},
     "output_type": "execute_result"
    }
   ],
   "source": [
    "#Q-2 Create a python function that accepts a string and returns the reverse of that string.\n",
    "#ANS-\n",
    "string=input('enter')\n",
    "def st(string):\n",
    "    if type(string) is str :\n",
    "        return string[::-1]\n",
    "st(string)"
   ]
  },
  {
   "cell_type": "code",
   "execution_count": 43,
   "id": "70b41416-ef31-44c5-ad9d-3c93f0a5e3d8",
   "metadata": {},
   "outputs": [],
   "source": [
    "#Q-3 Implement a python function that takes a list of integers and returns a new list containing the squares of each number.\n",
    "#ANS-\n",
    "def square_numbers(numbers):\n",
    "    return [x ** 2 for x in numbers]"
   ]
  },
  {
   "cell_type": "code",
   "execution_count": 44,
   "id": "2a0f8eae-e376-4d66-9b79-b2a778b28619",
   "metadata": {},
   "outputs": [],
   "source": [
    "original_list = [1, 2, 3, 4, 5]"
   ]
  },
  {
   "cell_type": "code",
   "execution_count": 45,
   "id": "a181637f-dcce-491b-b778-7d9886a63be2",
   "metadata": {},
   "outputs": [],
   "source": [
    "squared_list = square_numbers(original_list)"
   ]
  },
  {
   "cell_type": "code",
   "execution_count": 46,
   "id": "0b50fad4-b05b-4fb8-b286-06b944d2867b",
   "metadata": {},
   "outputs": [
    {
     "name": "stdout",
     "output_type": "stream",
     "text": [
      "[1, 4, 9, 16, 25]\n"
     ]
    }
   ],
   "source": [
    "print(squared_list)"
   ]
  },
  {
   "cell_type": "code",
   "execution_count": 52,
   "id": "a4737941-daad-43e2-81d3-2ae19f9a8d52",
   "metadata": {},
   "outputs": [
    {
     "name": "stdout",
     "output_type": "stream",
     "text": [
      "3 5 7 9 11 13 15 17 19 21 23 25 27 29 31 33 35 37 39 41 43 45 47 49 51 53 55 57 59 61 63 65 67 69 71 73 75 77 79 81 83 85 87 89 91 93 95 97 99 101 103 105 107 109 111 113 115 117 119 121 123 125 127 129 131 133 135 137 139 141 143 145 147 149 151 153 155 157 159 161 163 165 167 169 171 173 175 177 179 181 183 185 187 189 191 193 195 197 199 "
     ]
    }
   ],
   "source": [
    "#Q-4 Write a python function that checks if a given number is prime or not fro 1 to 200.\n",
    "#ANS-\n",
    "def check_prime(n):\n",
    "    if n==0 or n==1:\n",
    "        return False\n",
    "    \n",
    "    for i in range(2,n):\n",
    "        if n%i==0:\n",
    "            return False\n",
    "        \n",
    "        return True\n",
    "    \n",
    "a=200\n",
    "for i in range(1,a+1):\n",
    "    if(check_prime(i)):\n",
    "        print(i,end=\" \")\n",
    "            \n",
    "                "
   ]
  },
  {
   "cell_type": "code",
   "execution_count": 54,
   "id": "8f968891-6460-4511-a1b9-6f550dc0a387",
   "metadata": {},
   "outputs": [
    {
     "name": "stdout",
     "output_type": "stream",
     "text": [
      "3\n",
      "5\n",
      "8\n",
      "13\n",
      "21\n",
      "34\n",
      "55\n",
      "89\n",
      "144\n",
      "233\n",
      "377\n",
      "610\n",
      "987\n",
      "1597\n",
      "2584\n",
      "4181\n",
      "6765\n",
      "10946\n",
      "17711\n",
      "28657\n"
     ]
    }
   ],
   "source": [
    "#Q-5 Create an iterator class in python that generates the fibonacci sequence up to a specified number of terms.\n",
    "#ANS-\n",
    "class fib():\n",
    "    def __init__(self):\n",
    "        self.n2=3\n",
    "        self.n3=5\n",
    "    def __iter__(self):\n",
    "        return self\n",
    "    def __next__(self):\n",
    "        self.n1=self.n2\n",
    "        self.n2=self.n3\n",
    "        self.n3=self.n1+self.n2\n",
    "        return self.n1\n",
    "a=fib()\n",
    "b=iter(a)\n",
    "for i in range(20):\n",
    "    \n",
    "    print(next(b))"
   ]
  },
  {
   "cell_type": "code",
   "execution_count": 55,
   "id": "b2e3a72b-5c6e-4ba7-9f2f-c1a8ef59296c",
   "metadata": {},
   "outputs": [
    {
     "data": {
      "text/plain": [
       "0"
      ]
     },
     "execution_count": 55,
     "metadata": {},
     "output_type": "execute_result"
    }
   ],
   "source": [
    "#Q-6 Write a generator function in python that yields the powers of 2 up to a given exponent.\n",
    "#ANS-\n",
    "def sqr (n):\n",
    "    for i in range(n):\n",
    "        yield i**2\n",
    "        \n",
    "square=sqr(10)\n",
    "next(square)\n"
   ]
  },
  {
   "cell_type": "code",
   "execution_count": 58,
   "id": "aeed49c6-fcc6-46b0-8f31-e26aed0faf77",
   "metadata": {},
   "outputs": [
    {
     "data": {
      "text/plain": [
       "9"
      ]
     },
     "execution_count": 58,
     "metadata": {},
     "output_type": "execute_result"
    }
   ],
   "source": [
    "next(square)"
   ]
  },
  {
   "cell_type": "code",
   "execution_count": 80,
   "id": "6b29d72e-d0fd-4dd7-907a-ad687ed42f35",
   "metadata": {},
   "outputs": [
    {
     "name": "stdout",
     "output_type": "stream",
     "text": [
      "Line1: Geeks\n",
      "Line2: for\n",
      "Line3: Geeks\n"
     ]
    }
   ],
   "source": [
    "#Q-7 Implement a generator function that reads a file line and yields each line as a string.\n",
    "#ANS-\n",
    "L = [\"Geeks\\n\", \"for\\n\", \"Geeks\\n\"]\n",
    "file1 = open('myfile.txt', 'w')\n",
    "file1.writelines(L)\n",
    "file1.close()\n",
    "#Using readlines\n",
    "file1 = open('myfile.txt', 'r')\n",
    "Lines = file1.readlines()\n",
    "\n",
    "count = 0\n",
    "#Strips the newline character\n",
    "for line in Lines:\n",
    "    count +=1\n",
    "    print(\"Line{}: {}\".format(count, line.strip()))"
   ]
  },
  {
   "cell_type": "code",
   "execution_count": 35,
   "id": "5e7e60ed-6d7c-4828-83ba-267177ad9dfe",
   "metadata": {},
   "outputs": [
    {
     "name": "stdout",
     "output_type": "stream",
     "text": [
      "[32.5, 34.0, 46.0, 136.0, 151.0, 68.5, 38.5]\n"
     ]
    }
   ],
   "source": [
    "#Q-9 Write a python program that uses 'map()' to convert a list of temperatures from celsius to fahrenheit.\n",
    "#ANS-\n",
    "celsius=[1,2,10,70,80,25,5]\n",
    "\n",
    "fehn=list(map(lambda x : x * 1.5 + 31, celsius))\n",
    "print(fehn)"
   ]
  },
  {
   "cell_type": "code",
   "execution_count": 38,
   "id": "6e1ff8cb-0482-4ba8-b5d9-9e3efba3a1db",
   "metadata": {},
   "outputs": [
    {
     "name": "stdout",
     "output_type": "stream",
     "text": [
      "[[5, 1], [3, 2], [4, 2], [2, 4], [1, 5]]\n"
     ]
    }
   ],
   "source": [
    "#Q-8 Use a lamda function in python to sort a list of tuples based on the second element of each tuple.\n",
    "#ANS-\n",
    "tup=([1,5],[5,1],[2,4],[3,2],[4,2])\n",
    "\n",
    "sort=sorted(tup,key=lambda x: x[1])\n",
    "print(sort)            "
   ]
  },
  {
   "cell_type": "code",
   "execution_count": 46,
   "id": "d7ab4f12-a08d-446d-b665-935f69f7b838",
   "metadata": {},
   "outputs": [
    {
     "name": "stdout",
     "output_type": "stream",
     "text": [
      "this is exam\n"
     ]
    }
   ],
   "source": [
    "#Q-10 Create a python program that uses 'filter()' to remove all the vowels from a given string.\n",
    "#ANS-\n",
    "def remove(input_):\n",
    "    vowels=aieouAIEOU\n",
    "    return ''.join(filter(lambda x : x not in vowels,input_))\n",
    "\n",
    "\n",
    "input_=('this is exam')\n",
    "print(input_)"
   ]
  },
  {
   "cell_type": "markdown",
   "id": "7ec48f30-1073-4021-a21c-2fdf9669c292",
   "metadata": {},
   "source": [
    "#Q-11 Imagine an accounting routine used in a book shop.It works on a list with sublists,which look like this.\n",
    "order number       book title and author                  quantity        price per item \n",
    "34587              learning python,Mark lutz               4               40.95\n",
    "98762              programming python,Mark lutz            5               56.80\n",
    "77226               head first python,Paul barry           3               32.95 \n",
    "88112              Einfuhrung in python 3,Bernd klein      3               24.99                                          Write a python programming which return a list with 2 tuples. Each tuples consists of the order number and the product of the price per item and the quantity.The product should be increased by 10%-if the value of the order is smaller than 100,00E,write a python program using lamda and map. "
   ]
  },
  {
   "cell_type": "code",
   "execution_count": 72,
   "id": "a4ad4f12-0976-44bf-9aaa-0ec181e55572",
   "metadata": {},
   "outputs": [
    {
     "name": "stdout",
     "output_type": "stream",
     "text": [
      "[(34587, 163.8), (98762, 284.0), (77226, 108.85000000000001), (88112, 84.97)]\n"
     ]
    }
   ],
   "source": [
    "# ANS-\n",
    "orders = [34587, 'Learning Python,Mark Lutz', 4, 40.95],[98762, 'Programming Python, Mark Lutz', 5,56.80],[77226, 'Head First Python, Paul Barry', 3, 32.95],[88112, 'Einfuhrung in Python3, Bernd Klein', 3, 24.99]\n",
    "com= list(map(lambda x:(x[0],x[2]*x[3] +10)if x[2]*x[3] <100 else (x[0],x[2]*x[3]),orders))\n",
    "print(com)\n"
   ]
  },
  {
   "cell_type": "code",
   "execution_count": null,
   "id": "32466cda-1672-4c94-9322-f73453faaff1",
   "metadata": {},
   "outputs": [],
   "source": []
  },
  {
   "cell_type": "code",
   "execution_count": null,
   "id": "756313f5-6c49-4cfb-8799-cb3128a7d555",
   "metadata": {},
   "outputs": [],
   "source": []
  }
 ],
 "metadata": {
  "kernelspec": {
   "display_name": "Python 3 (ipykernel)",
   "language": "python",
   "name": "python3"
  },
  "language_info": {
   "codemirror_mode": {
    "name": "ipython",
    "version": 3
   },
   "file_extension": ".py",
   "mimetype": "text/x-python",
   "name": "python",
   "nbconvert_exporter": "python",
   "pygments_lexer": "ipython3",
   "version": "3.10.8"
  }
 },
 "nbformat": 4,
 "nbformat_minor": 5
}
